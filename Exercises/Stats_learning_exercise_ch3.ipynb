{
 "cells": [
  {
   "cell_type": "code",
   "execution_count": 55,
   "metadata": {},
   "outputs": [],
   "source": [
    "def load_libs():\n",
    "    import pandas as pd\n",
    "    import numpy as np\n",
    "    import plotly.express as px\n",
    "    import seaborn as sns\n",
    "    import matplotlib.pyplot as plt\n",
    "    from sklearn.neighbors import KNeighborsRegressor\n",
    "    from sklearn.model_selection import train_test_split\n",
    "    from sklearn.preprocessing import StandardScaler\n",
    "    from sklearn.metrics import mean_absolute_error, mean_squared_error\n",
    "    from sklearn.linear_model import LinearRegression\n",
    "    import statsmodels.api as sm\n",
    "    import statsmodels.formula.api as smf\n",
    "    from statsmodels.formula.api import ols\n",
    "    from mpl_toolkits.mplot3d import Axes3D\n",
    "    from sklearn.metrics import mean_squared_error, r2_score\n",
    "    from statsmodels.stats.outliers_influence import variance_inflation_factor\n"
   ]
  },
  {
   "cell_type": "code",
   "execution_count": 56,
   "metadata": {},
   "outputs": [],
   "source": [
    "load_libs()"
   ]
  },
  {
   "cell_type": "markdown",
   "metadata": {},
   "source": [
    "# <p style=\"text-align:center\"> Conceptual section </p>"
   ]
  },
  {
   "cell_type": "markdown",
   "metadata": {},
   "source": [
    "##### 1. Describe the null hypotheses to which the p-values given in Table 3.4 correspond. Explain what conclusions you can draw based on these p-values. Your explanation should be phrased in terms of sales, TV, radio, and newspaper, rather than in terms of the coefficients of the linear model.  "
   ]
  },
  {
   "cell_type": "markdown",
   "metadata": {},
   "source": [
    "Intercept: 2.939\n",
    "Beta_1 -Tv: .046\n",
    "Beta_2- Radio: .189\n",
    "Beta_3- Newspaper: -.001\n",
    "\n",
    "pvalue for tv and radio are less than .05, newspaper is greater than .05. \n",
    "tv and radio are significant, newspaper is not significant and that means for Tv and radio we reject the null hypothesis and accept the alternative hypthosis that there is a relationship between sales and tv and radio. For Newspaper, we accept the null hypthesis that there is no relationship between sales and newspaper \n",
    "\n",
    "\n",
    "As sales increases by 1 unit, tv increases by .046 units and radio increases by .189 units"
   ]
  },
  {
   "cell_type": "markdown",
   "metadata": {},
   "source": [
    "# 2. Carefully explain the differences between the KNN classifier and KNN regression methods.\n"
   ]
  },
  {
   "cell_type": "markdown",
   "metadata": {},
   "source": [
    "- both are given a value K training observations, and given a prediction point $x_0$. Where they differ is in the data they predict. KNN clasifier gives a probability back for which category y belongs to, while KNN regressor estimates $f(x_0)$ by taking the average of points around $x_0$. Both are very similar, classifier is categorical and Regressor is quantative. "
   ]
  },
  {
   "cell_type": "markdown",
   "metadata": {},
   "source": [
    "##### 3. Suppose we have a data set with five predictors, $X_1=$ GPA, $X_2=$ IQ, $X_3=$ Level (1 for College and 0 for High School), $X_4=$ Interaction between GPA and IQ, and $X_5=$ Interaction between GPA and Level. The response is starting salary after graduation (in thousands of dollars). Suppose we use least squares to fit the model, and get $\\hat{\\beta}_0=50, \\hat{\\beta}_1=20, \\hat{\\beta}_2=0.07, \\hat{\\beta}_3=35, \\hat{\\beta}_4=0.01, \\hat{\\beta}_5=-10$.\n",
    "- (a) Which answer is correct, and why?\n",
    "- - i. For a fixed value of IQ and GPA, high school graduates earn more, on average, than college graduates.\n",
    "- - ii. For a fixed value of IQ and GPA, college graduates earn more, on average, than high school graduates.\n",
    "- - iii. For a fixed value of IQ and GPA, high school graduates earn more, on average, than college graduates provided that the GPA is high enough.\n",
    "- - iv. For a fixed value of IQ and GPA, college graduates earn more, on average, than high school graduates provided that the GPA is high enough.\n",
    "- (b) Predict the salary of a college graduate with IQ of 110 and a GPA of 4.0.\n",
    "- (c) True or false: Since the coeflicient for the GPA/IQ interaction term is very small, there is very little evidence of an interaction effect. Justify your answer.\n"
   ]
  },
  {
   "cell_type": "code",
   "execution_count": 57,
   "metadata": {},
   "outputs": [
    {
     "data": {
      "application/vnd.plotly.v1+json": {
       "config": {
        "plotlyServerURL": "https://plot.ly"
       },
       "data": [
        {
         "colorscale": [
          [
           0,
           "rgb(247,251,255)"
          ],
          [
           0.125,
           "rgb(222,235,247)"
          ],
          [
           0.25,
           "rgb(198,219,239)"
          ],
          [
           0.375,
           "rgb(158,202,225)"
          ],
          [
           0.5,
           "rgb(107,174,214)"
          ],
          [
           0.625,
           "rgb(66,146,198)"
          ],
          [
           0.75,
           "rgb(33,113,181)"
          ],
          [
           0.875,
           "rgb(8,81,156)"
          ],
          [
           1,
           "rgb(8,48,107)"
          ]
         ],
         "name": "College",
         "showscale": false,
         "type": "surface",
         "x": [
          1,
          1.4444444444444444,
          1.8888888888888888,
          2.333333333333333,
          2.7777777777777777,
          3.2222222222222223,
          3.6666666666666665,
          4.111111111111111,
          4.555555555555555,
          5
         ],
         "y": [
          1,
          11.473684210526315,
          21.94736842105263,
          32.421052631578945,
          42.89473684210526,
          53.368421052631575,
          63.84210526315789,
          74.3157894736842,
          84.78947368421052,
          95.26315789473684,
          105.73684210526315,
          116.21052631578947,
          126.68421052631578,
          137.15789473684208,
          147.6315789473684,
          158.10526315789474,
          168.57894736842104,
          179.05263157894734,
          189.52631578947367,
          200
         ],
         "z": [
          [
           95.08,
           95.9178947368421,
           96.75578947368422,
           97.59368421052632,
           98.43157894736842,
           99.26947368421052,
           100.10736842105264,
           100.94526315789473,
           101.78315789473685,
           102.62105263157893,
           103.45894736842105,
           104.29684210526317,
           105.13473684210526,
           105.97263157894737,
           106.81052631578947,
           107.64842105263158,
           108.48631578947368,
           109.3242105263158,
           110.16210526315788,
           111
          ],
          [
           99.52888888888889,
           100.41333333333333,
           101.29777777777778,
           102.18222222222222,
           103.06666666666666,
           103.9511111111111,
           104.83555555555556,
           105.72,
           106.60444444444444,
           107.48888888888888,
           108.37333333333333,
           109.25777777777778,
           110.14222222222222,
           111.02666666666667,
           111.91111111111111,
           112.79555555555555,
           113.67999999999999,
           114.56444444444445,
           115.44888888888887,
           116.33333333333333
          ],
          [
           103.97777777777777,
           104.90877192982455,
           105.83976608187135,
           106.77076023391812,
           107.70175438596492,
           108.63274853801168,
           109.56374269005849,
           110.49473684210525,
           111.42573099415202,
           112.35672514619881,
           113.2877192982456,
           114.2187134502924,
           115.14970760233919,
           116.08070175438598,
           117.01169590643275,
           117.94269005847954,
           118.8736842105263,
           119.80467836257307,
           120.73567251461986,
           121.66666666666666
          ],
          [
           108.42666666666666,
           109.4042105263158,
           110.38175438596492,
           111.35929824561403,
           112.33684210526313,
           113.31438596491226,
           114.2919298245614,
           115.26947368421052,
           116.24701754385966,
           117.22456140350876,
           118.20210526315789,
           119.17964912280702,
           120.15719298245612,
           121.13473684210526,
           122.11228070175439,
           123.08982456140352,
           124.06736842105265,
           125.04491228070175,
           126.02245614035085,
           126.99999999999999
          ],
          [
           112.87555555555554,
           113.899649122807,
           114.92374269005848,
           115.94783625730994,
           116.97192982456141,
           117.99602339181288,
           119.02011695906435,
           120.0442105263158,
           121.06830409356726,
           122.09239766081873,
           123.11649122807017,
           124.14058479532164,
           125.16467836257311,
           126.18877192982458,
           127.21286549707605,
           128.23695906432752,
           129.26105263157896,
           130.28514619883043,
           131.30923976608187,
           132.33333333333331
          ],
          [
           117.32444444444445,
           118.39508771929826,
           119.46573099415207,
           120.53637426900585,
           121.60701754385966,
           122.67766081871343,
           123.74830409356724,
           124.81894736842105,
           125.88959064327486,
           126.96023391812867,
           128.03087719298247,
           129.10152046783628,
           130.17216374269006,
           131.24280701754387,
           132.31345029239765,
           133.38409356725145,
           134.45473684210526,
           135.52538011695907,
           136.59602339181288,
           137.66666666666669
          ],
          [
           121.77333333333331,
           122.89052631578946,
           124.0077192982456,
           125.12491228070175,
           126.2421052631579,
           127.35929824561404,
           128.4764912280702,
           129.5936842105263,
           130.71087719298245,
           131.8280701754386,
           132.94526315789471,
           134.06245614035086,
           135.179649122807,
           136.29684210526315,
           137.41403508771933,
           138.53122807017544,
           139.6484210526316,
           140.76561403508774,
           141.88280701754388,
           143.00000000000003
          ],
          [
           126.22222222222223,
           127.38596491228071,
           128.5497076023392,
           129.71345029239768,
           130.87719298245614,
           132.04093567251462,
           133.2046783625731,
           134.3684210526316,
           135.53216374269005,
           136.69590643274853,
           137.859649122807,
           139.0233918128655,
           140.18713450292398,
           141.35087719298244,
           142.51461988304092,
           143.67836257309943,
           144.84210526315792,
           146.00584795321637,
           147.16959064327486,
           148.33333333333334
          ],
          [
           130.6711111111111,
           131.88140350877194,
           133.09169590643273,
           134.30198830409358,
           135.51228070175438,
           136.72257309941523,
           137.93286549707602,
           139.14315789473687,
           140.35345029239767,
           141.56374269005846,
           142.7740350877193,
           143.9843274853801,
           145.19461988304096,
           146.40491228070175,
           147.61520467836255,
           148.8254970760234,
           150.03578947368425,
           151.24608187134504,
           152.45637426900583,
           153.66666666666669
          ],
          [
           135.12,
           136.37684210526317,
           137.63368421052633,
           138.8905263157895,
           140.14736842105262,
           141.40421052631578,
           142.66105263157894,
           143.9178947368421,
           145.17473684210526,
           146.43157894736842,
           147.68842105263158,
           148.94526315789474,
           150.2021052631579,
           151.45894736842104,
           152.7157894736842,
           153.9726315789474,
           155.22947368421055,
           156.48631578947368,
           157.74315789473684,
           159
          ]
         ]
        },
        {
         "colorscale": [
          [
           0,
           "rgb(252,251,253)"
          ],
          [
           0.125,
           "rgb(239,237,245)"
          ],
          [
           0.25,
           "rgb(218,218,235)"
          ],
          [
           0.375,
           "rgb(188,189,220)"
          ],
          [
           0.5,
           "rgb(158,154,200)"
          ],
          [
           0.625,
           "rgb(128,125,186)"
          ],
          [
           0.75,
           "rgb(106,81,163)"
          ],
          [
           0.875,
           "rgb(84,39,143)"
          ],
          [
           1,
           "rgb(63,0,125)"
          ]
         ],
         "name": "High School",
         "showscale": false,
         "type": "surface",
         "x": [
          1,
          1.4444444444444444,
          1.8888888888888888,
          2.333333333333333,
          2.7777777777777777,
          3.2222222222222223,
          3.6666666666666665,
          4.111111111111111,
          4.555555555555555,
          5
         ],
         "y": [
          1,
          11.473684210526315,
          21.94736842105263,
          32.421052631578945,
          42.89473684210526,
          53.368421052631575,
          63.84210526315789,
          74.3157894736842,
          84.78947368421052,
          95.26315789473684,
          105.73684210526315,
          116.21052631578947,
          126.68421052631578,
          137.15789473684208,
          147.6315789473684,
          158.10526315789474,
          168.57894736842104,
          179.05263157894734,
          189.52631578947367,
          200
         ],
         "z": [
          [
           70.08,
           70.9178947368421,
           71.75578947368422,
           72.59368421052632,
           73.43157894736842,
           74.26947368421052,
           75.10736842105264,
           75.94526315789473,
           76.78315789473685,
           77.62105263157893,
           78.45894736842105,
           79.29684210526317,
           80.13473684210526,
           80.97263157894737,
           81.81052631578947,
           82.64842105263158,
           83.48631578947368,
           84.3242105263158,
           85.16210526315788,
           86
          ],
          [
           78.97333333333333,
           79.85777777777777,
           80.74222222222222,
           81.62666666666667,
           82.5111111111111,
           83.39555555555555,
           84.28,
           85.16444444444444,
           86.04888888888888,
           86.93333333333332,
           87.81777777777778,
           88.70222222222222,
           89.58666666666666,
           90.47111111111111,
           91.35555555555555,
           92.24,
           93.12444444444444,
           94.00888888888889,
           94.89333333333332,
           95.77777777777777
          ],
          [
           87.86666666666666,
           88.79766081871344,
           89.72865497076023,
           90.65964912280701,
           91.5906432748538,
           92.52163742690057,
           93.45263157894736,
           94.38362573099414,
           95.31461988304093,
           96.24561403508771,
           97.17660818713449,
           98.10760233918128,
           99.03859649122806,
           99.96959064327486,
           100.90058479532163,
           101.83157894736841,
           102.76257309941519,
           103.69356725146199,
           104.62456140350876,
           105.55555555555554
          ],
          [
           96.75999999999998,
           97.73754385964911,
           98.71508771929824,
           99.69263157894736,
           100.67017543859649,
           101.6477192982456,
           102.62526315789474,
           103.60280701754384,
           104.58035087719297,
           105.55789473684209,
           106.53543859649122,
           107.51298245614035,
           108.49052631578947,
           109.46807017543858,
           110.4456140350877,
           111.42315789473683,
           112.40070175438595,
           113.37824561403508,
           114.3557894736842,
           115.33333333333333
          ],
          [
           105.65333333333332,
           106.67742690058479,
           107.70152046783626,
           108.72561403508772,
           109.74970760233919,
           110.77380116959064,
           111.79789473684211,
           112.82198830409357,
           113.84608187134504,
           114.8701754385965,
           115.89426900584796,
           116.91836257309943,
           117.94245614035087,
           118.96654970760234,
           119.9906432748538,
           121.01473684210526,
           122.03883040935672,
           123.06292397660819,
           124.08701754385966,
           125.11111111111111
          ],
          [
           114.54666666666665,
           115.61730994152046,
           116.68795321637427,
           117.75859649122806,
           118.82923976608187,
           119.89988304093566,
           120.97052631578947,
           122.04116959064326,
           123.11181286549707,
           124.18245614035088,
           125.25309941520467,
           126.32374269005848,
           127.39438596491227,
           128.4650292397661,
           129.53567251461988,
           130.60631578947368,
           131.6769590643275,
           132.7476023391813,
           133.8182456140351,
           134.8888888888889
          ],
          [
           123.43999999999998,
           124.55719298245613,
           125.67438596491228,
           126.79157894736841,
           127.90877192982457,
           129.0259649122807,
           130.14315789473685,
           131.26035087719296,
           132.3775438596491,
           133.49473684210525,
           134.61192982456137,
           135.72912280701752,
           136.84631578947366,
           137.9635087719298,
           139.08070175438598,
           140.1978947368421,
           141.31508771929825,
           142.4322807017544,
           143.54947368421054,
           144.66666666666669
          ],
          [
           132.33333333333334,
           133.49707602339183,
           134.6608187134503,
           135.8245614035088,
           136.98830409356725,
           138.15204678362574,
           139.31578947368422,
           140.4795321637427,
           141.64327485380116,
           142.80701754385964,
           143.97076023391813,
           145.1345029239766,
           146.2982456140351,
           147.46198830409355,
           148.62573099415204,
           149.78947368421055,
           150.95321637426903,
           152.1169590643275,
           153.28070175438597,
           154.44444444444446
          ],
          [
           141.22666666666666,
           142.43695906432748,
           143.6472514619883,
           144.85754385964913,
           146.06783625730992,
           147.27812865497077,
           148.4884210526316,
           149.69871345029242,
           150.9090058479532,
           152.11929824561403,
           153.32959064327486,
           154.53988304093568,
           155.7501754385965,
           156.9604678362573,
           158.17076023391812,
           159.38105263157897,
           160.5913450292398,
           161.80163742690058,
           163.0119298245614,
           164.22222222222223
          ],
          [
           150.12,
           151.37684210526317,
           152.63368421052633,
           153.8905263157895,
           155.14736842105262,
           156.40421052631578,
           157.66105263157894,
           158.9178947368421,
           160.17473684210526,
           161.43157894736842,
           162.68842105263158,
           163.94526315789474,
           165.2021052631579,
           166.45894736842104,
           167.7157894736842,
           168.9726315789474,
           170.22947368421055,
           171.48631578947368,
           172.74315789473684,
           174
          ]
         ]
        }
       ],
       "layout": {
        "scene": {
         "xaxis": {
          "title": {
           "text": "GPA"
          }
         },
         "yaxis": {
          "title": {
           "text": "IQ"
          }
         },
         "zaxis": {
          "title": {
           "text": "Salary"
          }
         }
        },
        "template": {
         "data": {
          "bar": [
           {
            "error_x": {
             "color": "#2a3f5f"
            },
            "error_y": {
             "color": "#2a3f5f"
            },
            "marker": {
             "line": {
              "color": "#E5ECF6",
              "width": 0.5
             },
             "pattern": {
              "fillmode": "overlay",
              "size": 10,
              "solidity": 0.2
             }
            },
            "type": "bar"
           }
          ],
          "barpolar": [
           {
            "marker": {
             "line": {
              "color": "#E5ECF6",
              "width": 0.5
             },
             "pattern": {
              "fillmode": "overlay",
              "size": 10,
              "solidity": 0.2
             }
            },
            "type": "barpolar"
           }
          ],
          "carpet": [
           {
            "aaxis": {
             "endlinecolor": "#2a3f5f",
             "gridcolor": "white",
             "linecolor": "white",
             "minorgridcolor": "white",
             "startlinecolor": "#2a3f5f"
            },
            "baxis": {
             "endlinecolor": "#2a3f5f",
             "gridcolor": "white",
             "linecolor": "white",
             "minorgridcolor": "white",
             "startlinecolor": "#2a3f5f"
            },
            "type": "carpet"
           }
          ],
          "choropleth": [
           {
            "colorbar": {
             "outlinewidth": 0,
             "ticks": ""
            },
            "type": "choropleth"
           }
          ],
          "contour": [
           {
            "colorbar": {
             "outlinewidth": 0,
             "ticks": ""
            },
            "colorscale": [
             [
              0,
              "#0d0887"
             ],
             [
              0.1111111111111111,
              "#46039f"
             ],
             [
              0.2222222222222222,
              "#7201a8"
             ],
             [
              0.3333333333333333,
              "#9c179e"
             ],
             [
              0.4444444444444444,
              "#bd3786"
             ],
             [
              0.5555555555555556,
              "#d8576b"
             ],
             [
              0.6666666666666666,
              "#ed7953"
             ],
             [
              0.7777777777777778,
              "#fb9f3a"
             ],
             [
              0.8888888888888888,
              "#fdca26"
             ],
             [
              1,
              "#f0f921"
             ]
            ],
            "type": "contour"
           }
          ],
          "contourcarpet": [
           {
            "colorbar": {
             "outlinewidth": 0,
             "ticks": ""
            },
            "type": "contourcarpet"
           }
          ],
          "heatmap": [
           {
            "colorbar": {
             "outlinewidth": 0,
             "ticks": ""
            },
            "colorscale": [
             [
              0,
              "#0d0887"
             ],
             [
              0.1111111111111111,
              "#46039f"
             ],
             [
              0.2222222222222222,
              "#7201a8"
             ],
             [
              0.3333333333333333,
              "#9c179e"
             ],
             [
              0.4444444444444444,
              "#bd3786"
             ],
             [
              0.5555555555555556,
              "#d8576b"
             ],
             [
              0.6666666666666666,
              "#ed7953"
             ],
             [
              0.7777777777777778,
              "#fb9f3a"
             ],
             [
              0.8888888888888888,
              "#fdca26"
             ],
             [
              1,
              "#f0f921"
             ]
            ],
            "type": "heatmap"
           }
          ],
          "heatmapgl": [
           {
            "colorbar": {
             "outlinewidth": 0,
             "ticks": ""
            },
            "colorscale": [
             [
              0,
              "#0d0887"
             ],
             [
              0.1111111111111111,
              "#46039f"
             ],
             [
              0.2222222222222222,
              "#7201a8"
             ],
             [
              0.3333333333333333,
              "#9c179e"
             ],
             [
              0.4444444444444444,
              "#bd3786"
             ],
             [
              0.5555555555555556,
              "#d8576b"
             ],
             [
              0.6666666666666666,
              "#ed7953"
             ],
             [
              0.7777777777777778,
              "#fb9f3a"
             ],
             [
              0.8888888888888888,
              "#fdca26"
             ],
             [
              1,
              "#f0f921"
             ]
            ],
            "type": "heatmapgl"
           }
          ],
          "histogram": [
           {
            "marker": {
             "pattern": {
              "fillmode": "overlay",
              "size": 10,
              "solidity": 0.2
             }
            },
            "type": "histogram"
           }
          ],
          "histogram2d": [
           {
            "colorbar": {
             "outlinewidth": 0,
             "ticks": ""
            },
            "colorscale": [
             [
              0,
              "#0d0887"
             ],
             [
              0.1111111111111111,
              "#46039f"
             ],
             [
              0.2222222222222222,
              "#7201a8"
             ],
             [
              0.3333333333333333,
              "#9c179e"
             ],
             [
              0.4444444444444444,
              "#bd3786"
             ],
             [
              0.5555555555555556,
              "#d8576b"
             ],
             [
              0.6666666666666666,
              "#ed7953"
             ],
             [
              0.7777777777777778,
              "#fb9f3a"
             ],
             [
              0.8888888888888888,
              "#fdca26"
             ],
             [
              1,
              "#f0f921"
             ]
            ],
            "type": "histogram2d"
           }
          ],
          "histogram2dcontour": [
           {
            "colorbar": {
             "outlinewidth": 0,
             "ticks": ""
            },
            "colorscale": [
             [
              0,
              "#0d0887"
             ],
             [
              0.1111111111111111,
              "#46039f"
             ],
             [
              0.2222222222222222,
              "#7201a8"
             ],
             [
              0.3333333333333333,
              "#9c179e"
             ],
             [
              0.4444444444444444,
              "#bd3786"
             ],
             [
              0.5555555555555556,
              "#d8576b"
             ],
             [
              0.6666666666666666,
              "#ed7953"
             ],
             [
              0.7777777777777778,
              "#fb9f3a"
             ],
             [
              0.8888888888888888,
              "#fdca26"
             ],
             [
              1,
              "#f0f921"
             ]
            ],
            "type": "histogram2dcontour"
           }
          ],
          "mesh3d": [
           {
            "colorbar": {
             "outlinewidth": 0,
             "ticks": ""
            },
            "type": "mesh3d"
           }
          ],
          "parcoords": [
           {
            "line": {
             "colorbar": {
              "outlinewidth": 0,
              "ticks": ""
             }
            },
            "type": "parcoords"
           }
          ],
          "pie": [
           {
            "automargin": true,
            "type": "pie"
           }
          ],
          "scatter": [
           {
            "fillpattern": {
             "fillmode": "overlay",
             "size": 10,
             "solidity": 0.2
            },
            "type": "scatter"
           }
          ],
          "scatter3d": [
           {
            "line": {
             "colorbar": {
              "outlinewidth": 0,
              "ticks": ""
             }
            },
            "marker": {
             "colorbar": {
              "outlinewidth": 0,
              "ticks": ""
             }
            },
            "type": "scatter3d"
           }
          ],
          "scattercarpet": [
           {
            "marker": {
             "colorbar": {
              "outlinewidth": 0,
              "ticks": ""
             }
            },
            "type": "scattercarpet"
           }
          ],
          "scattergeo": [
           {
            "marker": {
             "colorbar": {
              "outlinewidth": 0,
              "ticks": ""
             }
            },
            "type": "scattergeo"
           }
          ],
          "scattergl": [
           {
            "marker": {
             "colorbar": {
              "outlinewidth": 0,
              "ticks": ""
             }
            },
            "type": "scattergl"
           }
          ],
          "scattermapbox": [
           {
            "marker": {
             "colorbar": {
              "outlinewidth": 0,
              "ticks": ""
             }
            },
            "type": "scattermapbox"
           }
          ],
          "scatterpolar": [
           {
            "marker": {
             "colorbar": {
              "outlinewidth": 0,
              "ticks": ""
             }
            },
            "type": "scatterpolar"
           }
          ],
          "scatterpolargl": [
           {
            "marker": {
             "colorbar": {
              "outlinewidth": 0,
              "ticks": ""
             }
            },
            "type": "scatterpolargl"
           }
          ],
          "scatterternary": [
           {
            "marker": {
             "colorbar": {
              "outlinewidth": 0,
              "ticks": ""
             }
            },
            "type": "scatterternary"
           }
          ],
          "surface": [
           {
            "colorbar": {
             "outlinewidth": 0,
             "ticks": ""
            },
            "colorscale": [
             [
              0,
              "#0d0887"
             ],
             [
              0.1111111111111111,
              "#46039f"
             ],
             [
              0.2222222222222222,
              "#7201a8"
             ],
             [
              0.3333333333333333,
              "#9c179e"
             ],
             [
              0.4444444444444444,
              "#bd3786"
             ],
             [
              0.5555555555555556,
              "#d8576b"
             ],
             [
              0.6666666666666666,
              "#ed7953"
             ],
             [
              0.7777777777777778,
              "#fb9f3a"
             ],
             [
              0.8888888888888888,
              "#fdca26"
             ],
             [
              1,
              "#f0f921"
             ]
            ],
            "type": "surface"
           }
          ],
          "table": [
           {
            "cells": {
             "fill": {
              "color": "#EBF0F8"
             },
             "line": {
              "color": "white"
             }
            },
            "header": {
             "fill": {
              "color": "#C8D4E3"
             },
             "line": {
              "color": "white"
             }
            },
            "type": "table"
           }
          ]
         },
         "layout": {
          "annotationdefaults": {
           "arrowcolor": "#2a3f5f",
           "arrowhead": 0,
           "arrowwidth": 1
          },
          "autotypenumbers": "strict",
          "coloraxis": {
           "colorbar": {
            "outlinewidth": 0,
            "ticks": ""
           }
          },
          "colorscale": {
           "diverging": [
            [
             0,
             "#8e0152"
            ],
            [
             0.1,
             "#c51b7d"
            ],
            [
             0.2,
             "#de77ae"
            ],
            [
             0.3,
             "#f1b6da"
            ],
            [
             0.4,
             "#fde0ef"
            ],
            [
             0.5,
             "#f7f7f7"
            ],
            [
             0.6,
             "#e6f5d0"
            ],
            [
             0.7,
             "#b8e186"
            ],
            [
             0.8,
             "#7fbc41"
            ],
            [
             0.9,
             "#4d9221"
            ],
            [
             1,
             "#276419"
            ]
           ],
           "sequential": [
            [
             0,
             "#0d0887"
            ],
            [
             0.1111111111111111,
             "#46039f"
            ],
            [
             0.2222222222222222,
             "#7201a8"
            ],
            [
             0.3333333333333333,
             "#9c179e"
            ],
            [
             0.4444444444444444,
             "#bd3786"
            ],
            [
             0.5555555555555556,
             "#d8576b"
            ],
            [
             0.6666666666666666,
             "#ed7953"
            ],
            [
             0.7777777777777778,
             "#fb9f3a"
            ],
            [
             0.8888888888888888,
             "#fdca26"
            ],
            [
             1,
             "#f0f921"
            ]
           ],
           "sequentialminus": [
            [
             0,
             "#0d0887"
            ],
            [
             0.1111111111111111,
             "#46039f"
            ],
            [
             0.2222222222222222,
             "#7201a8"
            ],
            [
             0.3333333333333333,
             "#9c179e"
            ],
            [
             0.4444444444444444,
             "#bd3786"
            ],
            [
             0.5555555555555556,
             "#d8576b"
            ],
            [
             0.6666666666666666,
             "#ed7953"
            ],
            [
             0.7777777777777778,
             "#fb9f3a"
            ],
            [
             0.8888888888888888,
             "#fdca26"
            ],
            [
             1,
             "#f0f921"
            ]
           ]
          },
          "colorway": [
           "#636efa",
           "#EF553B",
           "#00cc96",
           "#ab63fa",
           "#FFA15A",
           "#19d3f3",
           "#FF6692",
           "#B6E880",
           "#FF97FF",
           "#FECB52"
          ],
          "font": {
           "color": "#2a3f5f"
          },
          "geo": {
           "bgcolor": "white",
           "lakecolor": "white",
           "landcolor": "#E5ECF6",
           "showlakes": true,
           "showland": true,
           "subunitcolor": "white"
          },
          "hoverlabel": {
           "align": "left"
          },
          "hovermode": "closest",
          "mapbox": {
           "style": "light"
          },
          "paper_bgcolor": "white",
          "plot_bgcolor": "#E5ECF6",
          "polar": {
           "angularaxis": {
            "gridcolor": "white",
            "linecolor": "white",
            "ticks": ""
           },
           "bgcolor": "#E5ECF6",
           "radialaxis": {
            "gridcolor": "white",
            "linecolor": "white",
            "ticks": ""
           }
          },
          "scene": {
           "xaxis": {
            "backgroundcolor": "#E5ECF6",
            "gridcolor": "white",
            "gridwidth": 2,
            "linecolor": "white",
            "showbackground": true,
            "ticks": "",
            "zerolinecolor": "white"
           },
           "yaxis": {
            "backgroundcolor": "#E5ECF6",
            "gridcolor": "white",
            "gridwidth": 2,
            "linecolor": "white",
            "showbackground": true,
            "ticks": "",
            "zerolinecolor": "white"
           },
           "zaxis": {
            "backgroundcolor": "#E5ECF6",
            "gridcolor": "white",
            "gridwidth": 2,
            "linecolor": "white",
            "showbackground": true,
            "ticks": "",
            "zerolinecolor": "white"
           }
          },
          "shapedefaults": {
           "line": {
            "color": "#2a3f5f"
           }
          },
          "ternary": {
           "aaxis": {
            "gridcolor": "white",
            "linecolor": "white",
            "ticks": ""
           },
           "baxis": {
            "gridcolor": "white",
            "linecolor": "white",
            "ticks": ""
           },
           "bgcolor": "#E5ECF6",
           "caxis": {
            "gridcolor": "white",
            "linecolor": "white",
            "ticks": ""
           }
          },
          "title": {
           "x": 0.05
          },
          "xaxis": {
           "automargin": true,
           "gridcolor": "white",
           "linecolor": "white",
           "ticks": "",
           "title": {
            "standoff": 15
           },
           "zerolinecolor": "white",
           "zerolinewidth": 2
          },
          "yaxis": {
           "automargin": true,
           "gridcolor": "white",
           "linecolor": "white",
           "ticks": "",
           "title": {
            "standoff": 15
           },
           "zerolinecolor": "white",
           "zerolinewidth": 2
          }
         }
        }
       }
      }
     },
     "metadata": {},
     "output_type": "display_data"
    }
   ],
   "source": [
    "import numpy as np\n",
    "import plotly.graph_objects as go\n",
    "\n",
    "def model(gpa, iq, level):\n",
    "    return 50 + gpa * 20 + iq * 0.07 + level * 35 + gpa * iq * 0.01 + gpa * level * -10\n",
    "\n",
    "x = np.linspace(1, 5, 10)\n",
    "y = np.linspace(1, 200, 20)\n",
    "\n",
    "college = np.array([model(gpa, iq, 1) for gpa in x for iq in y]).reshape(len(x), len(y))\n",
    "high_school = np.array([model(gpa, iq, 0) for gpa in x for iq in y]).reshape(len(x), len(y))\n",
    "\n",
    "fig = go.Figure(data=[\n",
    "    go.Surface(z=college, x=x, y=y, colorscale='Blues', showscale=False, name='College'),\n",
    "    go.Surface(z=high_school, x=x, y=y, colorscale='Purples', showscale=False, name='High School')\n",
    "])\n",
    "\n",
    "fig.update_layout(scene=dict(\n",
    "    xaxis_title='GPA',\n",
    "    yaxis_title='IQ',\n",
    "    zaxis_title='Salary'\n",
    "))\n",
    "\n",
    "fig.show()"
   ]
  },
  {
   "cell_type": "code",
   "execution_count": 58,
   "metadata": {},
   "outputs": [
    {
     "name": "stdout",
     "output_type": "stream",
     "text": [
      "Salary for college graduates: 148.2\n",
      "Salary for high school graduates: 163.2\n"
     ]
    }
   ],
   "source": [
    "iq = 110\n",
    "gpa = 5\n",
    "\n",
    "college_salary = model(gpa, iq, 1)\n",
    "high_school_salary = model(gpa, iq, 0)\n",
    "\n",
    "print(f\"Salary for college graduates: {college_salary}\")\n",
    "print(f\"Salary for high school graduates: {high_school_salary}\")"
   ]
  },
  {
   "cell_type": "markdown",
   "metadata": {},
   "source": [
    "(a)\n",
    "\n",
    "- (iii). For a fixed value of IQ and GPA, high school graduates earn more, on average, than college graduates provided that the GPA is high enough."
   ]
  },
  {
   "cell_type": "code",
   "execution_count": 59,
   "metadata": {},
   "outputs": [
    {
     "name": "stdout",
     "output_type": "stream",
     "text": [
      "salary of a college graduate with IQ of 110 and a GPA of 4.0.: 137.1\n"
     ]
    }
   ],
   "source": [
    "#(b)\n",
    "\n",
    "Y = model(4.0, 110, 1)\n",
    "print('salary of a college graduate with IQ of 110 and a GPA of 4.0.:',Y)\n"
   ]
  },
  {
   "cell_type": "markdown",
   "metadata": {},
   "source": [
    "(c) False, we have to look at the p value to make sure that there is a significant interaction. If we do not have evidence of statistical significance, we cannot say"
   ]
  },
  {
   "cell_type": "markdown",
   "metadata": {},
   "source": [
    "4. I collect a set of data (n = 100 observations) containing a single predictor and a quantitative response. I then fit a linear regression model to the data, as well as a separate cubic regression, i.e. $Y = β_0 + β_1X + β_2 X^2 + β_3 X^3 + \\epsilon$. \n",
    "- (a) Suppose that the true relationship between X and Y is linear, i.e. $Y = β_0 + β_1X_1 + \\epsilon$. Consider the training residual sum of squares (RSS) for the linear regression, and also the training RSS for the cubic regression. Would we expect one to be lower than the other, would we expect them to be the same, or is there not enough information to tell? Justify your answer. \n",
    "- (b) Answer (a) using test rather than training RSS. \n",
    "- (c) Suppose that the true relationship between X and Y is not linear, but we don’t know how far it is from linear. Consider the training RSS for the linear regression, and also the training RSS for the cubic regression. Would we expect one to be lower than the other, would we expect them to be the same, or is there not enough information to tell? Justify your answer. (d) Answer (c) using test rather than training RSS"
   ]
  },
  {
   "cell_type": "markdown",
   "metadata": {},
   "source": [
    "(a) You would expect the cubic regression line RSS to be smaller, because as you add new predictors to your fit, RSS gets smaller. "
   ]
  },
  {
   "cell_type": "markdown",
   "metadata": {},
   "source": [
    "(b) test RSS would be higher becuase of over fitting "
   ]
  },
  {
   "cell_type": "markdown",
   "metadata": {},
   "source": [
    "(c) You would expect the cubic fit to hav elower RSS, because there is an expectation that it will be as flexible as linear regression, but also fit non-linear data better. "
   ]
  },
  {
   "cell_type": "markdown",
   "metadata": {},
   "source": [
    "(d) We cannot say, because if the data is highly non-linear, cubic fit will be better, but if it is not far from being truely linear, linear regression may be better. "
   ]
  },
  {
   "cell_type": "markdown",
   "metadata": {},
   "source": [
    "5. Consider the fitted values that result from performing linear regression without an intercept. In this setting, the ith fitted value takes the form\n",
    "$$\n",
    "\\hat{y}_i=x_i \\hat{\\beta}\n",
    "$$\n",
    "where\n",
    "$$\n",
    "\\hat{\\beta}=\\left(\\sum_{i=1}^n x_i y_i\\right) /\\left(\\sum_{i^{\\prime}=1}^n x_{i^{\\prime}}^2\\right) .\n",
    "$$\n",
    "\n",
    "Show that we can write\n",
    "$$\n",
    "\\hat{y}_i=\\sum_{i^{\\prime}=1}^n a_{i^{\\prime}} y_{i^{\\prime}}\n",
    "$$\n",
    "``\n",
    "What is $a_{i^{\\prime}}$ ?\n",
    "\n",
    "Note: We interpret this result by saying that the filled values from linear regression are linear combinations of the response values."
   ]
  },
  {
   "cell_type": "markdown",
   "metadata": {},
   "source": [
    "\n",
    "\\begin{align}\n",
    "\\hat{y}_i \n",
    "  & = x_i \\frac{\\sum_{i=1}^nx_iy_i}{\\sum_{i' = 1}^n x^2_{i'}} \\\\\n",
    "  & = x_i \\frac{\\sum_{i'=1}^nx_{i'}y_{i'}}{\\sum_{i'' = 1}^n x^2_{i''}} \\\\\n",
    "  & = \\frac{\\sum_{i'=1}^n x_i x_{i'}y_{i'}}{\\sum_{i'' = 1}^n x^2_{i''}} \\\\\n",
    "  & = \\sum_{i'=1}^n  \\frac{ x_i x_{i'}y_{i'}}{\\sum_{i'' = 1}^n x^2_{i''}} \\\\\n",
    "  & = \\sum_{i'=1}^n  \\frac{ x_i x_{i'}}{\\sum_{i'' = 1}^n x^2_{i''}} y_{i'}\n",
    "\\end{align}\n",
    "\n",
    "therefore,\n",
    "\n",
    "$$a_{i'} = \\frac{ x_i x_{i'}}{\\sum x^2}$$"
   ]
  },
  {
   "cell_type": "markdown",
   "metadata": {},
   "source": [
    "6. Using (3.4), argue that in the case of simple linear regression, the least squares line always passes through the point $(\\bar{x},\\bar{y})$"
   ]
  },
  {
   "cell_type": "markdown",
   "metadata": {},
   "source": [
    "$$\n",
    "\\begin{align}\n",
    "y &= \\hat\\beta_0 + \\hat\\beta_1x \\\\\n",
    "  &= \\bar{y} - \\hat\\beta_1\\bar{x} + \\hat\\beta_1x \\quad \\text{(when } x = \\bar{x}\\text{)} \\\\\n",
    "  &= \\bar{y} - \\hat\\beta_1\\bar{x} + \\hat\\beta_1\\bar{x} \\\\\n",
    "  &= \\bar{y}\n",
    "\\end{align}\n",
    "$$"
   ]
  },
  {
   "cell_type": "markdown",
   "metadata": {},
   "source": [
    "7. It is claimed in the text that in the case of simple linear regression of $Y$ onto $X$, the $R^2$ statistic (3.17) is equal to the square of the correlation between $X$ and $Y$ (3.18). Prove that this is the case. For simplicity, you may assume that $\\bar{x}=\\bar{y}=0$.\n"
   ]
  },
  {
   "cell_type": "markdown",
   "metadata": {},
   "source": [
    "$$\n",
    "\\begin{align}\n",
    "R^2 &= \\frac{\\sum_iy_i^2 - \\sum_i(y_i - x_i\\frac{\\sum_j{x_jy_j}}{\\sum_jx_j^2})^2}\n",
    "            {\\sum_iy_i^2} \\\\\n",
    "\n",
    "    &= \\frac{\\sum_iy_i^2 - \\sum_i(\n",
    "          y_i^2 -\n",
    "          2y_ix_i\\frac{\\sum_j{x_jy_j}}{\\sum_jx_j^2} +\n",
    "          x_i^2 (\\frac{\\sum_j{x_jy_j}}{\\sum_jx_j^2})^2\n",
    "        )}{\\sum_iy_i^2} \\\\\n",
    "\n",
    "    &= \\frac{\n",
    "          2\\sum_i(y_ix_i\\frac{\\sum_j{x_jy_j}}{\\sum_jx_j^2}) -\n",
    "          \\sum_i(x_i^2 (\\frac{\\sum_j{x_jy_j}}{\\sum_jx_j^2})^2)\n",
    "        }{\\sum_iy_i^2} \\\\\n",
    "\n",
    "    &= \\frac{\n",
    "          2\\sum_i(y_ix_i) \\frac{\\sum_j{x_jy_j}}{\\sum_jx_j^2} -\n",
    "          \\sum_i(x_i^2) \\frac{(\\sum_j{x_jy_j})^2}{(\\sum_jx_j^2)^2}\n",
    "        }{\\sum_iy_i^2} \\\\\n",
    "\n",
    "    &= \\frac{\n",
    "          2\\frac{(\\sum_i{x_iy_i})^2}{\\sum_jx_j^2} -\n",
    "          \\frac{(\\sum_i{x_iy_i})^2}{\\sum_jx_j^2}\n",
    "        }{\\sum_iy_i^2} \\\\\n",
    "\n",
    "    &= \\frac{(\\sum_i{x_iy_i})^2}{\\sum_ix_i^2 \\sum_iy_i^2}\\\\\n",
    "    &= Cor(X,Y)^2\n",
    "\\end{align}\n",
    "\n",
    "$$"
   ]
  },
  {
   "cell_type": "markdown",
   "metadata": {},
   "source": [
    "\\begin{align}\n",
    "Cor(X,Y)^2 &= \\frac{\\sum_i{(x_i-\\bar{x})(y_i-\\bar{y_i})}}{\\sqrt{\\sum_i{(x_i-\\bar{x})^2}}\\sqrt{\\sum_i{(y_i-\\bar{y_i})^2}}}\\\\\n",
    "&= \\frac{\\sum_i{(x_i-0)(y_i-0)}}{\\sqrt{\\sum_i{(x_i-0)^2}}\\sqrt{\\sum_i{(y_i-0)^2}}}\\\\\n",
    "&= \\frac{\\sum_i{x_iy_i}}{\\sqrt{\\sum_i{x_i^2}}\\sqrt{\\sum_i{y_i^2}}}\\\\\n",
    "&= (\\frac{\\sum_i{x_iy_i}}{\\sqrt{\\sum_i{x_i^2}}\\sqrt{\\sum_i{y_i^2}}})^2\\\\\n",
    "&= \\frac{(\\sum_i{x_iy_i})^2}{\\sum_ix_i^2 \\sum_iy_i^2}\\\\\n",
    "&= R^2\n",
    "\n",
    "\n",
    "\n",
    "\\end{align}"
   ]
  },
  {
   "cell_type": "markdown",
   "metadata": {},
   "source": [
    "# <p style=\"text-align:center\"> Applied section </p>"
   ]
  }
 ],
 "metadata": {
  "kernelspec": {
   "display_name": "minimal_ds",
   "language": "python",
   "name": "python3"
  },
  "language_info": {
   "codemirror_mode": {
    "name": "ipython",
    "version": 3
   },
   "file_extension": ".py",
   "mimetype": "text/x-python",
   "name": "python",
   "nbconvert_exporter": "python",
   "pygments_lexer": "ipython3",
   "version": "3.10.9"
  }
 },
 "nbformat": 4,
 "nbformat_minor": 2
}
