{
 "cells": [
  {
   "cell_type": "code",
   "execution_count": 63,
   "id": "initial_id",
   "metadata": {
    "collapsed": true,
    "ExecuteTime": {
     "end_time": "2024-02-08T00:39:04.432819200Z",
     "start_time": "2024-02-08T00:39:04.423802800Z"
    }
   },
   "outputs": [],
   "source": [
    "import numpy as np\n",
    "import pandas as pd\n",
    "from matplotlib.pyplot import subplots\n",
    "import statsmodels.api as sm\n",
    "from sklearn.discriminant_analysis import \\\n",
    "    (LinearDiscriminantAnalysis as LDA,\n",
    "     QuadraticDiscriminantAnalysis as QDA)\n",
    "from sklearn.naive_bayes import GaussianNB\n",
    "from sklearn.neighbors import KNeighborsClassifier\n",
    "from sklearn.preprocessing import StandardScaler\n",
    "from sklearn.model_selection import train_test_split\n",
    "from sklearn.linear_model import LogisticRegression\n",
    "from sklearn.linear_model import LinearRegression\n",
    "import statsmodels.api as sm\n",
    "import statsmodels.formula.api as smf\n",
    "from statsmodels.formula.api import ols\n",
    "from mpl_toolkits.mplot3d import Axes3D\n",
    "from sklearn.metrics import mean_squared_error, r2_score\n",
    "from statsmodels.stats.outliers_influence import variance_inflation_factor\n",
    "from sklearn.preprocessing import LabelEncoder\n",
    "from sklearn.metrics import confusion_matrix\n",
    "from sklearn.model_selection import train_test_split\n"
   ]
  },
  {
   "cell_type": "code",
   "outputs": [
    {
     "data": {
      "text/plain": "            Year   Lag1   Lag2   Lag3   Lag4   Lag5   Volume  Today Direction\nUnnamed: 0                                                                   \n1           2001  0.381 -0.192 -2.624 -1.055  5.010  1.19130  0.959        Up\n2           2001  0.959  0.381 -0.192 -2.624 -1.055  1.29650  1.032        Up\n3           2001  1.032  0.959  0.381 -0.192 -2.624  1.41120 -0.623      Down\n4           2001 -0.623  1.032  0.959  0.381 -0.192  1.27600  0.614        Up\n5           2001  0.614 -0.623  1.032  0.959  0.381  1.20570  0.213        Up\n...          ...    ...    ...    ...    ...    ...      ...    ...       ...\n1246        2005  0.422  0.252 -0.024 -0.584 -0.285  1.88850  0.043        Up\n1247        2005  0.043  0.422  0.252 -0.024 -0.584  1.28581 -0.955      Down\n1248        2005 -0.955  0.043  0.422  0.252 -0.024  1.54047  0.130        Up\n1249        2005  0.130 -0.955  0.043  0.422  0.252  1.42236 -0.298      Down\n1250        2005 -0.298  0.130 -0.955  0.043  0.422  1.38254 -0.489      Down\n\n[1250 rows x 9 columns]",
      "text/html": "<div>\n<style scoped>\n    .dataframe tbody tr th:only-of-type {\n        vertical-align: middle;\n    }\n\n    .dataframe tbody tr th {\n        vertical-align: top;\n    }\n\n    .dataframe thead th {\n        text-align: right;\n    }\n</style>\n<table border=\"1\" class=\"dataframe\">\n  <thead>\n    <tr style=\"text-align: right;\">\n      <th></th>\n      <th>Year</th>\n      <th>Lag1</th>\n      <th>Lag2</th>\n      <th>Lag3</th>\n      <th>Lag4</th>\n      <th>Lag5</th>\n      <th>Volume</th>\n      <th>Today</th>\n      <th>Direction</th>\n    </tr>\n    <tr>\n      <th>Unnamed: 0</th>\n      <th></th>\n      <th></th>\n      <th></th>\n      <th></th>\n      <th></th>\n      <th></th>\n      <th></th>\n      <th></th>\n      <th></th>\n    </tr>\n  </thead>\n  <tbody>\n    <tr>\n      <th>1</th>\n      <td>2001</td>\n      <td>0.381</td>\n      <td>-0.192</td>\n      <td>-2.624</td>\n      <td>-1.055</td>\n      <td>5.010</td>\n      <td>1.19130</td>\n      <td>0.959</td>\n      <td>Up</td>\n    </tr>\n    <tr>\n      <th>2</th>\n      <td>2001</td>\n      <td>0.959</td>\n      <td>0.381</td>\n      <td>-0.192</td>\n      <td>-2.624</td>\n      <td>-1.055</td>\n      <td>1.29650</td>\n      <td>1.032</td>\n      <td>Up</td>\n    </tr>\n    <tr>\n      <th>3</th>\n      <td>2001</td>\n      <td>1.032</td>\n      <td>0.959</td>\n      <td>0.381</td>\n      <td>-0.192</td>\n      <td>-2.624</td>\n      <td>1.41120</td>\n      <td>-0.623</td>\n      <td>Down</td>\n    </tr>\n    <tr>\n      <th>4</th>\n      <td>2001</td>\n      <td>-0.623</td>\n      <td>1.032</td>\n      <td>0.959</td>\n      <td>0.381</td>\n      <td>-0.192</td>\n      <td>1.27600</td>\n      <td>0.614</td>\n      <td>Up</td>\n    </tr>\n    <tr>\n      <th>5</th>\n      <td>2001</td>\n      <td>0.614</td>\n      <td>-0.623</td>\n      <td>1.032</td>\n      <td>0.959</td>\n      <td>0.381</td>\n      <td>1.20570</td>\n      <td>0.213</td>\n      <td>Up</td>\n    </tr>\n    <tr>\n      <th>...</th>\n      <td>...</td>\n      <td>...</td>\n      <td>...</td>\n      <td>...</td>\n      <td>...</td>\n      <td>...</td>\n      <td>...</td>\n      <td>...</td>\n      <td>...</td>\n    </tr>\n    <tr>\n      <th>1246</th>\n      <td>2005</td>\n      <td>0.422</td>\n      <td>0.252</td>\n      <td>-0.024</td>\n      <td>-0.584</td>\n      <td>-0.285</td>\n      <td>1.88850</td>\n      <td>0.043</td>\n      <td>Up</td>\n    </tr>\n    <tr>\n      <th>1247</th>\n      <td>2005</td>\n      <td>0.043</td>\n      <td>0.422</td>\n      <td>0.252</td>\n      <td>-0.024</td>\n      <td>-0.584</td>\n      <td>1.28581</td>\n      <td>-0.955</td>\n      <td>Down</td>\n    </tr>\n    <tr>\n      <th>1248</th>\n      <td>2005</td>\n      <td>-0.955</td>\n      <td>0.043</td>\n      <td>0.422</td>\n      <td>0.252</td>\n      <td>-0.024</td>\n      <td>1.54047</td>\n      <td>0.130</td>\n      <td>Up</td>\n    </tr>\n    <tr>\n      <th>1249</th>\n      <td>2005</td>\n      <td>0.130</td>\n      <td>-0.955</td>\n      <td>0.043</td>\n      <td>0.422</td>\n      <td>0.252</td>\n      <td>1.42236</td>\n      <td>-0.298</td>\n      <td>Down</td>\n    </tr>\n    <tr>\n      <th>1250</th>\n      <td>2005</td>\n      <td>-0.298</td>\n      <td>0.130</td>\n      <td>-0.955</td>\n      <td>0.043</td>\n      <td>0.422</td>\n      <td>1.38254</td>\n      <td>-0.489</td>\n      <td>Down</td>\n    </tr>\n  </tbody>\n</table>\n<p>1250 rows × 9 columns</p>\n</div>"
     },
     "execution_count": 64,
     "metadata": {},
     "output_type": "execute_result"
    }
   ],
   "source": [
    "Smarket =pd.read_csv('../datasets/Smarket.csv')\n",
    "Smarket.set_index(\"Unnamed: 0\", inplace=True)\n",
    "Smarket\n"
   ],
   "metadata": {
    "collapsed": false,
    "ExecuteTime": {
     "end_time": "2024-02-08T00:39:04.513475Z",
     "start_time": "2024-02-08T00:39:04.428822Z"
    }
   },
   "id": "3f56d6e1cdba9e36",
   "execution_count": 64
  },
  {
   "cell_type": "code",
   "outputs": [
    {
     "data": {
      "text/plain": "Index(['Year', 'Lag1', 'Lag2', 'Lag3', 'Lag4', 'Lag5', 'Volume', 'Today',\n       'Direction'],\n      dtype='object')"
     },
     "execution_count": 65,
     "metadata": {},
     "output_type": "execute_result"
    }
   ],
   "source": [
    "Smarket.columns"
   ],
   "metadata": {
    "collapsed": false,
    "ExecuteTime": {
     "end_time": "2024-02-08T00:39:04.513475Z",
     "start_time": "2024-02-08T00:39:04.448031200Z"
    }
   },
   "id": "94dc9fa52436a4f4",
   "execution_count": 65
  },
  {
   "cell_type": "code",
   "outputs": [
    {
     "data": {
      "text/plain": "array([[ 1.        ,  0.02969965,  0.03059642,  0.03319458,  0.03568872,\n         0.02978799,  0.53900647,  0.03009523],\n       [ 0.02969965,  1.        , -0.02629433, -0.0108034 , -0.00298591,\n        -0.00567461,  0.04090991, -0.02615505],\n       [ 0.03059642, -0.02629433,  1.        , -0.02589667, -0.01085353,\n        -0.00355795, -0.04338321, -0.01025003],\n       [ 0.03319458, -0.0108034 , -0.02589667,  1.        , -0.02405104,\n        -0.01880834, -0.04182369, -0.00244765],\n       [ 0.03568872, -0.00298591, -0.01085353, -0.02405104,  1.        ,\n        -0.02708364, -0.04841425, -0.00689953],\n       [ 0.02978799, -0.00567461, -0.00355795, -0.01880834, -0.02708364,\n         1.        , -0.02200231, -0.03486008],\n       [ 0.53900647,  0.04090991, -0.04338321, -0.04182369, -0.04841425,\n        -0.02200231,  1.        ,  0.01459182],\n       [ 0.03009523, -0.02615505, -0.01025003, -0.00244765, -0.00689953,\n        -0.03486008,  0.01459182,  1.        ]])"
     },
     "execution_count": 66,
     "metadata": {},
     "output_type": "execute_result"
    }
   ],
   "source": [
    "Smarket.select_dtypes(include=[np.number]).corr().to_numpy()"
   ],
   "metadata": {
    "collapsed": false,
    "ExecuteTime": {
     "end_time": "2024-02-08T00:39:04.514476500Z",
     "start_time": "2024-02-08T00:39:04.451842400Z"
    }
   },
   "id": "6c73103bccb78991",
   "execution_count": 66
  },
  {
   "cell_type": "code",
   "outputs": [
    {
     "data": {
      "text/plain": "<Figure size 640x480 with 1 Axes>",
      "image/png": "[encoded data removed]"
     },
     "metadata": {},
     "output_type": "display_data"
    }
   ],
   "source": [
    "Smarket.plot(y='Volume');"
   ],
   "metadata": {
    "collapsed": false,
    "ExecuteTime": {
     "end_time": "2024-02-08T00:39:04.726691100Z",
     "start_time": "2024-02-08T00:39:04.464474300Z"
    }
   },
   "id": "e2c4b15f335ca921",
   "execution_count": 67
  },
  {
   "cell_type": "code",
   "outputs": [
    {
     "name": "stdout",
     "output_type": "stream",
     "text": [
      "                 Generalized Linear Model Regression Results                  \n",
      "==============================================================================\n",
      "Dep. Variable:                      y   No. Observations:                 1250\n",
      "Model:                            GLM   Df Residuals:                     1244\n",
      "Model Family:                Binomial   Df Model:                            5\n",
      "Link Function:                  Logit   Scale:                          1.0000\n",
      "Method:                          IRLS   Log-Likelihood:                -864.64\n",
      "Date:                Wed, 07 Feb 2024   Deviance:                       1729.3\n",
      "Time:                        16:39:04   Pearson chi2:                 1.25e+03\n",
      "No. Iterations:                     4   Pseudo R-squ. (CS):           0.001512\n",
      "Covariance Type:            nonrobust                                         \n",
      "==============================================================================\n",
      "                 coef    std err          z      P>|z|      [0.025      0.975]\n",
      "------------------------------------------------------------------------------\n",
      "x1            -0.0829      0.057     -1.455      0.146      -0.194       0.029\n",
      "x2            -0.0480      0.057     -0.843      0.399      -0.159       0.063\n",
      "x3             0.0127      0.057      0.223      0.824      -0.099       0.124\n",
      "x4             0.0107      0.057      0.187      0.851      -0.101       0.122\n",
      "x5             0.0118      0.057      0.209      0.835      -0.099       0.123\n",
      "x6             0.0487      0.057      0.854      0.393      -0.063       0.160\n",
      "==============================================================================\n"
     ]
    }
   ],
   "source": [
    "allvars = Smarket.columns.drop(['Today','Direction','Year'])\n",
    "\n",
    "X = Smarket[allvars]  # Get predictor data\n",
    "y = np.where(Smarket.Direction == 'Up', 1, 0)  # Convert response\n",
    "\n",
    "# Standardize the predictors to have mean=0 and variance=1\n",
    "scaler = StandardScaler()\n",
    "X_std = scaler.fit_transform(X)\n",
    "\n",
    "# Fit the logistic regression model\n",
    "glm_binom = sm.GLM(y, X_std, family=sm.families.Binomial())\n",
    "res = glm_binom.fit()\n",
    "\n",
    "# Print the summary statistics\n",
    "print(res.summary())"
   ],
   "metadata": {
    "collapsed": false,
    "ExecuteTime": {
     "end_time": "2024-02-08T00:39:04.779219900Z",
     "start_time": "2024-02-08T00:39:04.692033300Z"
    }
   },
   "id": "e9d45e762d4b96f5",
   "execution_count": 68
  },
  {
   "cell_type": "code",
   "outputs": [
    {
     "data": {
      "text/plain": "array([-0.08286343, -0.04795568,  0.01265731,  0.01065394,  0.01184819,\n        0.04865308])"
     },
     "execution_count": 69,
     "metadata": {},
     "output_type": "execute_result"
    }
   ],
   "source": [
    "res.params"
   ],
   "metadata": {
    "collapsed": false,
    "ExecuteTime": {
     "end_time": "2024-02-08T00:39:04.780221100Z",
     "start_time": "2024-02-08T00:39:04.711530100Z"
    }
   },
   "id": "11bd464c1d0de1ed",
   "execution_count": 69
  },
  {
   "cell_type": "code",
   "outputs": [
    {
     "data": {
      "text/plain": "array([0.14562514, 0.39898618, 0.8237013 , 0.85137899, 0.83464992,\n       0.39303549])"
     },
     "execution_count": 70,
     "metadata": {},
     "output_type": "execute_result"
    }
   ],
   "source": [
    "res.pvalues"
   ],
   "metadata": {
    "collapsed": false,
    "ExecuteTime": {
     "end_time": "2024-02-08T00:39:04.780221100Z",
     "start_time": "2024-02-08T00:39:04.717392600Z"
    }
   },
   "id": "dce0ad00a3d0e811",
   "execution_count": 70
  },
  {
   "cell_type": "code",
   "outputs": [],
   "source": [],
   "metadata": {
    "collapsed": false,
    "ExecuteTime": {
     "end_time": "2024-02-08T00:39:04.782220Z",
     "start_time": "2024-02-08T00:39:04.724681800Z"
    }
   },
   "id": "b8d7429c2e79e634",
   "execution_count": 70
  },
  {
   "cell_type": "code",
   "outputs": [
    {
     "data": {
      "text/plain": "array([0.48865042, 0.46310658, 0.46278103, 0.4967882 , 0.49235809,\n       0.48852084, 0.47426446, 0.49078573, 0.49919008, 0.4704632 ])"
     },
     "execution_count": 71,
     "metadata": {},
     "output_type": "execute_result"
    }
   ],
   "source": [
    "probs = res.predict()\n",
    "probs[:10]"
   ],
   "metadata": {
    "collapsed": false,
    "ExecuteTime": {
     "end_time": "2024-02-08T00:39:04.883219400Z",
     "start_time": "2024-02-08T00:39:04.729691800Z"
    }
   },
   "id": "bd8d67fc1f0e4805",
   "execution_count": 71
  },
  {
   "cell_type": "code",
   "outputs": [
    {
     "name": "stdout",
     "output_type": "stream",
     "text": [
      "                Actual Down  Actual Up\n",
      "Predicted Down          307        251\n",
      "Predicted Up            295        397\n"
     ]
    }
   ],
   "source": [
    "from sklearn.metrics import confusion_matrix\n",
    "\n",
    "# Decide on a threshold\n",
    "threshold = 0.5\n",
    "\n",
    "# Predict class labels based on the threshold\n",
    "predicted_labels = [1 if p > threshold else 0 for p in probs]\n",
    "\n",
    "# Print confusion matrix\n",
    "cm_df = pd.DataFrame(cm.T,\n",
    "                     index=[\"Predicted Down\", \"Predicted Up\"],\n",
    "                     columns=[\"Actual Down\", \"Actual Up\"])\n",
    "print(cm_df)"
   ],
   "metadata": {
    "collapsed": false,
    "ExecuteTime": {
     "end_time": "2024-02-08T00:39:04.883219400Z",
     "start_time": "2024-02-08T00:39:04.737106600Z"
    }
   },
   "id": "d45b838fa4c1f1c7",
   "execution_count": 72
  },
  {
   "cell_type": "code",
   "outputs": [
    {
     "data": {
      "text/plain": "(0.5632, 0.5632)"
     },
     "execution_count": 76,
     "metadata": {},
     "output_type": "execute_result"
    }
   ],
   "source": [
    "(307+397)/1250, np.mean(labels == Smarket.Direction)"
   ],
   "metadata": {
    "collapsed": false,
    "ExecuteTime": {
     "end_time": "2024-02-08T00:39:25.808270100Z",
     "start_time": "2024-02-08T00:39:25.802384100Z"
    }
   },
   "id": "d2aada310bf9bf2e",
   "execution_count": 76
  },
  {
   "cell_type": "code",
   "outputs": [
    {
     "name": "stdout",
     "output_type": "stream",
     "text": [
      "Training error rate: % 43.68\n"
     ]
    }
   ],
   "source": [
    "print(\"Training error rate: %\", (1- .5632)*100)"
   ],
   "metadata": {
    "collapsed": false,
    "ExecuteTime": {
     "end_time": "2024-02-08T00:39:04.884220200Z",
     "start_time": "2024-02-08T00:39:04.751957100Z"
    }
   },
   "id": "6c99b657073c565c",
   "execution_count": 74
  },
  {
   "cell_type": "code",
   "outputs": [
    {
     "data": {
      "text/plain": "(252, 9)"
     },
     "execution_count": 82,
     "metadata": {},
     "output_type": "execute_result"
    }
   ],
   "source": [
    "train = (Smarket.Year < 2005)\n",
    "Smarket_train = Smarket.loc[train]\n",
    "Smarket_test = Smarket.loc[~train]\n",
    "Smarket_test.shape\n",
    " "
   ],
   "metadata": {
    "collapsed": false,
    "ExecuteTime": {
     "end_time": "2024-02-08T01:04:45.537278900Z",
     "start_time": "2024-02-08T01:04:45.529995200Z"
    }
   },
   "id": "d48e369b5d1e6676",
   "execution_count": 82
  },
  {
   "cell_type": "code",
   "outputs": [],
   "source": [
    "train = train.reset_index(drop=True)\n",
    "X_std = pd.DataFrame(X_std)\n",
    "y = pd.Series(y)\n",
    "X_train, X_test = X_std.loc[train], X_std.loc[~train]\n",
    "y_train, y_test = y.loc[train], y.loc[~train]\n",
    "\n",
    "glm_binom = sm.GLM(y_train, X_train, family=sm.families.Binomial())\n",
    "results = glm_binom.fit()\n",
    "\n",
    "# Print the summary statistics\n",
    "probs = results.predict(exog = X_test)"
   ],
   "metadata": {
    "collapsed": false,
    "ExecuteTime": {
     "end_time": "2024-02-08T01:09:29.262087700Z",
     "start_time": "2024-02-08T01:09:29.248943900Z"
    }
   },
   "id": "b26f4abfb710a55d",
   "execution_count": 92
  },
  {
   "cell_type": "code",
   "outputs": [],
   "source": [
    "train_new_index = train.reindex(D.index)\n",
    "D_train, D_test = D[train_new_index], D[~train_new_index]"
   ],
   "metadata": {
    "collapsed": false,
    "ExecuteTime": {
     "end_time": "2024-02-08T01:13:40.586784200Z",
     "start_time": "2024-02-08T01:13:40.581266700Z"
    }
   },
   "id": "a3164b1533e8f02a",
   "execution_count": 102
  },
  {
   "cell_type": "code",
   "outputs": [
    {
     "data": {
      "text/plain": "Truth      Down   Up\nPredicted           \nDown         90  119\nUp           21   22",
      "text/html": "<div>\n<style scoped>\n    .dataframe tbody tr th:only-of-type {\n        vertical-align: middle;\n    }\n\n    .dataframe tbody tr th {\n        vertical-align: top;\n    }\n\n    .dataframe thead th {\n        text-align: right;\n    }\n</style>\n<table border=\"1\" class=\"dataframe\">\n  <thead>\n    <tr style=\"text-align: right;\">\n      <th>Truth</th>\n      <th>Down</th>\n      <th>Up</th>\n    </tr>\n    <tr>\n      <th>Predicted</th>\n      <th></th>\n      <th></th>\n    </tr>\n  </thead>\n  <tbody>\n    <tr>\n      <th>Down</th>\n      <td>90</td>\n      <td>119</td>\n    </tr>\n    <tr>\n      <th>Up</th>\n      <td>21</td>\n      <td>22</td>\n    </tr>\n  </tbody>\n</table>\n</div>"
     },
     "execution_count": 107,
     "metadata": {},
     "output_type": "execute_result"
    }
   ],
   "source": [
    "pd.crosstab(labels, L_test.values, rownames=['Predicted'], colnames=['Truth'])"
   ],
   "metadata": {
    "collapsed": false,
    "ExecuteTime": {
     "end_time": "2024-02-08T01:14:35.564473700Z",
     "start_time": "2024-02-08T01:14:35.539082900Z"
    }
   },
   "id": "cd1fd15921a0ff69",
   "execution_count": 107
  },
  {
   "cell_type": "code",
   "outputs": [
    {
     "name": "stdout",
     "output_type": "stream",
     "text": [
      "test accuracy: 0.4444444444444444\n",
      "test error: 0.5555555555555556\n"
     ]
    }
   ],
   "source": [
    "print(\"test accuracy:\",(90+22)/(90+119+22+21))\n",
    "print(\"test error:\", 1-(90 + 22) / (90 + 119 + 22 + 21))"
   ],
   "metadata": {
    "collapsed": false,
    "ExecuteTime": {
     "end_time": "2024-02-08T01:18:01.571156Z",
     "start_time": "2024-02-08T01:18:01.563231100Z"
    }
   },
   "id": "75ecc78b25ba64a0",
   "execution_count": 117
  },
  {
   "cell_type": "code",
   "outputs": [
    {
     "name": "stdout",
     "output_type": "stream",
     "text": [
      "                 Generalized Linear Model Regression Results                  \n",
      "==============================================================================\n",
      "Dep. Variable:                      y   No. Observations:                  998\n",
      "Model:                            GLM   Df Residuals:                      995\n",
      "Model Family:                Binomial   Df Model:                            2\n",
      "Link Function:                  Logit   Scale:                          1.0000\n",
      "Method:                          IRLS   Log-Likelihood:                -690.70\n",
      "Date:                Wed, 07 Feb 2024   Deviance:                       1381.4\n",
      "Time:                        17:28:11   Pearson chi2:                     998.\n",
      "No. Iterations:                     4   Pseudo R-squ. (CS):           0.001865\n",
      "Covariance Type:            nonrobust                                         \n",
      "==============================================================================\n",
      "                 coef    std err          z      P>|z|      [0.025      0.975]\n",
      "------------------------------------------------------------------------------\n",
      "const          0.0322      0.063      0.508      0.611      -0.092       0.156\n",
      "Lag1          -0.0556      0.052     -1.076      0.282      -0.157       0.046\n",
      "Lag2          -0.0445      0.052     -0.861      0.389      -0.146       0.057\n",
      "==============================================================================\n"
     ]
    },
    {
     "data": {
      "text/plain": "array([[ 35,  76],\n       [ 35, 106]], dtype=int64)"
     },
     "execution_count": 126,
     "metadata": {},
     "output_type": "execute_result"
    }
   ],
   "source": [
    "from sklearn.metrics import confusion_matrix\n",
    "from sklearn.model_selection import train_test_split\n",
    "# Extracting our predictors and response\n",
    "X = Smarket[['Lag1', 'Lag2']]\n",
    "y = np.where(Smarket[\"Direction\"] == \"Up\", 1, 0)\n",
    "train.index = Smarket.index\n",
    "# Split the data into training and testing sets using your definition of train\n",
    "X_train, X_test = X.loc[train], X.loc[~train]\n",
    "y_train, y_test = y[train], y[~train]\n",
    "\n",
    "# Add the constant term to our train dataset - this is a requirement for the statsmodels API\n",
    "X_train = sm.add_constant(X_train)\n",
    "\n",
    "# Fit the logistic regression model\n",
    "model = sm.GLM(y_train, X_train, family = sm.families.Binomial())\n",
    "results = model.fit()\n",
    "\n",
    "# Print the summary of the model\n",
    "print(results.summary())\n",
    "\n",
    "# Compute the predicted probabilities on the test set\n",
    "X_test = sm.add_constant(X_test)\n",
    "y_pred = results.predict(X_test)\n",
    "\n",
    "# Convert probabilities into binary outcomes\n",
    "y_pred_labels = np.where(y_pred >0.5, 1, 0)\n",
    "\n",
    "# Compute the confusion matrix\n",
    "confusion_matrix(y_test, y_pred_labels)"
   ],
   "metadata": {
    "collapsed": false,
    "ExecuteTime": {
     "end_time": "2024-02-08T01:28:11.080322600Z",
     "start_time": "2024-02-08T01:28:11.052613300Z"
    }
   },
   "id": "870cf18f4493cba1",
   "execution_count": 126
  },
  {
   "cell_type": "code",
   "outputs": [
    {
     "data": {
      "text/plain": "(0.5595238095238095, 0.5824175824175825)"
     },
     "execution_count": 128,
     "metadata": {},
     "output_type": "execute_result"
    }
   ],
   "source": [
    "(35+106)/252,106/(106+76)"
   ],
   "metadata": {
    "collapsed": false,
    "ExecuteTime": {
     "end_time": "2024-02-08T01:28:43.894521800Z",
     "start_time": "2024-02-08T01:28:43.884568500Z"
    }
   },
   "id": "80f3b213474e60d4",
   "execution_count": 128
  }
 ],
 "metadata": {
  "kernelspec": {
   "display_name": "Python 3",
   "language": "python",
   "name": "python3"
  },
  "language_info": {
   "codemirror_mode": {
    "name": "ipython",
    "version": 2
   },
   "file_extension": ".py",
   "mimetype": "text/x-python",
   "name": "python",
   "nbconvert_exporter": "python",
   "pygments_lexer": "ipython2",
   "version": "2.7.6"
  }
 },
 "nbformat": 4,
 "nbformat_minor": 5
}
